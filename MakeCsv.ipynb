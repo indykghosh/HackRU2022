{
<<<<<<< HEAD
<<<<<<< HEAD
  "cells": [
    {
      "cell_type": "code",
      "execution_count": 3,
      "metadata": {
        "colab": {
          "base_uri": "https://localhost:8080/"
        },
        "id": "J0wwqrhGxK5A",
        "outputId": "3e79166a-952b-4594-b22a-0eeccdc63798"
      },
      "outputs": [
        {
          "ename": "PermissionError",
          "evalue": "[Errno 13] Permission denied: 'calendar.csv'",
          "output_type": "error",
          "traceback": [
            "\u001b[1;31m---------------------------------------------------------------------------\u001b[0m",
            "\u001b[1;31mPermissionError\u001b[0m                           Traceback (most recent call last)",
            "\u001b[1;32mc:\\Users\\test\\OneDrive\\Documents\\hackru\\HackRU2022\\MakeCsv.ipynb Cell 1'\u001b[0m in \u001b[0;36m<cell line: 65>\u001b[1;34m()\u001b[0m\n\u001b[0;32m     <a href='vscode-notebook-cell:/c%3A/Users/test/OneDrive/Documents/hackru/HackRU2022/MakeCsv.ipynb#ch0000000?line=61'>62</a>\u001b[0m end \u001b[39m=\u001b[39m [\u001b[39m'\u001b[39m\u001b[39m\\'\u001b[39;00m\u001b[39mthanksgiving recess end\u001b[39m\u001b[39m\\'\u001b[39;00m\u001b[39m'\u001b[39m,\u001b[39m'\u001b[39m\u001b[39m\\'\u001b[39;00m\u001b[39msunday, november 28\u001b[39m\u001b[39m\\'\u001b[39;00m\u001b[39m2021\u001b[39m\u001b[39m'\u001b[39m,\u001b[39m'\u001b[39m\u001b[39m\\'\u001b[39;00m\u001b[39msunday, november 27\u001b[39m\u001b[39m\\'\u001b[39;00m\u001b[39m2022\u001b[39m\u001b[39m'\u001b[39m,\u001b[39m'\u001b[39m\u001b[39m\\'\u001b[39;00m\u001b[39msunday, november 26\u001b[39m\u001b[39m\\'\u001b[39;00m\u001b[39m2023\u001b[39m\u001b[39m'\u001b[39m]\n\u001b[0;32m     <a href='vscode-notebook-cell:/c%3A/Users/test/OneDrive/Documents/hackru/HackRU2022/MakeCsv.ipynb#ch0000000?line=62'>63</a>\u001b[0m mydata\u001b[39m.\u001b[39mloc[length]\u001b[39m=\u001b[39mend\n\u001b[1;32m---> <a href='vscode-notebook-cell:/c%3A/Users/test/OneDrive/Documents/hackru/HackRU2022/MakeCsv.ipynb#ch0000000?line=64'>65</a>\u001b[0m mydata\u001b[39m.\u001b[39;49mto_csv(\u001b[39m'\u001b[39;49m\u001b[39mcalendar.csv\u001b[39;49m\u001b[39m'\u001b[39;49m, index\u001b[39m=\u001b[39;49m\u001b[39mFalse\u001b[39;49;00m)\n\u001b[0;32m     <a href='vscode-notebook-cell:/c%3A/Users/test/OneDrive/Documents/hackru/HackRU2022/MakeCsv.ipynb#ch0000000?line=65'>66</a>\u001b[0m mydata2 \u001b[39m=\u001b[39m pd\u001b[39m.\u001b[39mread_csv(\u001b[39m'\u001b[39m\u001b[39mcalendar.csv\u001b[39m\u001b[39m'\u001b[39m)\n\u001b[0;32m     <a href='vscode-notebook-cell:/c%3A/Users/test/OneDrive/Documents/hackru/HackRU2022/MakeCsv.ipynb#ch0000000?line=66'>67</a>\u001b[0m \u001b[39mprint\u001b[39m (mydata2)\n",
            "File \u001b[1;32m~\\AppData\\Local\\Programs\\Python\\Python310\\lib\\site-packages\\pandas\\core\\generic.py:3551\u001b[0m, in \u001b[0;36mNDFrame.to_csv\u001b[1;34m(self, path_or_buf, sep, na_rep, float_format, columns, header, index, index_label, mode, encoding, compression, quoting, quotechar, line_terminator, chunksize, date_format, doublequote, escapechar, decimal, errors, storage_options)\u001b[0m\n\u001b[0;32m   <a href='file:///c%3A/Users/test/AppData/Local/Programs/Python/Python310/lib/site-packages/pandas/core/generic.py?line=3539'>3540</a>\u001b[0m df \u001b[39m=\u001b[39m \u001b[39mself\u001b[39m \u001b[39mif\u001b[39;00m \u001b[39misinstance\u001b[39m(\u001b[39mself\u001b[39m, ABCDataFrame) \u001b[39melse\u001b[39;00m \u001b[39mself\u001b[39m\u001b[39m.\u001b[39mto_frame()\n\u001b[0;32m   <a href='file:///c%3A/Users/test/AppData/Local/Programs/Python/Python310/lib/site-packages/pandas/core/generic.py?line=3541'>3542</a>\u001b[0m formatter \u001b[39m=\u001b[39m DataFrameFormatter(\n\u001b[0;32m   <a href='file:///c%3A/Users/test/AppData/Local/Programs/Python/Python310/lib/site-packages/pandas/core/generic.py?line=3542'>3543</a>\u001b[0m     frame\u001b[39m=\u001b[39mdf,\n\u001b[0;32m   <a href='file:///c%3A/Users/test/AppData/Local/Programs/Python/Python310/lib/site-packages/pandas/core/generic.py?line=3543'>3544</a>\u001b[0m     header\u001b[39m=\u001b[39mheader,\n\u001b[1;32m   (...)\u001b[0m\n\u001b[0;32m   <a href='file:///c%3A/Users/test/AppData/Local/Programs/Python/Python310/lib/site-packages/pandas/core/generic.py?line=3547'>3548</a>\u001b[0m     decimal\u001b[39m=\u001b[39mdecimal,\n\u001b[0;32m   <a href='file:///c%3A/Users/test/AppData/Local/Programs/Python/Python310/lib/site-packages/pandas/core/generic.py?line=3548'>3549</a>\u001b[0m )\n\u001b[1;32m-> <a href='file:///c%3A/Users/test/AppData/Local/Programs/Python/Python310/lib/site-packages/pandas/core/generic.py?line=3550'>3551</a>\u001b[0m \u001b[39mreturn\u001b[39;00m DataFrameRenderer(formatter)\u001b[39m.\u001b[39;49mto_csv(\n\u001b[0;32m   <a href='file:///c%3A/Users/test/AppData/Local/Programs/Python/Python310/lib/site-packages/pandas/core/generic.py?line=3551'>3552</a>\u001b[0m     path_or_buf,\n\u001b[0;32m   <a href='file:///c%3A/Users/test/AppData/Local/Programs/Python/Python310/lib/site-packages/pandas/core/generic.py?line=3552'>3553</a>\u001b[0m     line_terminator\u001b[39m=\u001b[39;49mline_terminator,\n\u001b[0;32m   <a href='file:///c%3A/Users/test/AppData/Local/Programs/Python/Python310/lib/site-packages/pandas/core/generic.py?line=3553'>3554</a>\u001b[0m     sep\u001b[39m=\u001b[39;49msep,\n\u001b[0;32m   <a href='file:///c%3A/Users/test/AppData/Local/Programs/Python/Python310/lib/site-packages/pandas/core/generic.py?line=3554'>3555</a>\u001b[0m     encoding\u001b[39m=\u001b[39;49mencoding,\n\u001b[0;32m   <a href='file:///c%3A/Users/test/AppData/Local/Programs/Python/Python310/lib/site-packages/pandas/core/generic.py?line=3555'>3556</a>\u001b[0m     errors\u001b[39m=\u001b[39;49merrors,\n\u001b[0;32m   <a href='file:///c%3A/Users/test/AppData/Local/Programs/Python/Python310/lib/site-packages/pandas/core/generic.py?line=3556'>3557</a>\u001b[0m     compression\u001b[39m=\u001b[39;49mcompression,\n\u001b[0;32m   <a href='file:///c%3A/Users/test/AppData/Local/Programs/Python/Python310/lib/site-packages/pandas/core/generic.py?line=3557'>3558</a>\u001b[0m     quoting\u001b[39m=\u001b[39;49mquoting,\n\u001b[0;32m   <a href='file:///c%3A/Users/test/AppData/Local/Programs/Python/Python310/lib/site-packages/pandas/core/generic.py?line=3558'>3559</a>\u001b[0m     columns\u001b[39m=\u001b[39;49mcolumns,\n\u001b[0;32m   <a href='file:///c%3A/Users/test/AppData/Local/Programs/Python/Python310/lib/site-packages/pandas/core/generic.py?line=3559'>3560</a>\u001b[0m     index_label\u001b[39m=\u001b[39;49mindex_label,\n\u001b[0;32m   <a href='file:///c%3A/Users/test/AppData/Local/Programs/Python/Python310/lib/site-packages/pandas/core/generic.py?line=3560'>3561</a>\u001b[0m     mode\u001b[39m=\u001b[39;49mmode,\n\u001b[0;32m   <a href='file:///c%3A/Users/test/AppData/Local/Programs/Python/Python310/lib/site-packages/pandas/core/generic.py?line=3561'>3562</a>\u001b[0m     chunksize\u001b[39m=\u001b[39;49mchunksize,\n\u001b[0;32m   <a href='file:///c%3A/Users/test/AppData/Local/Programs/Python/Python310/lib/site-packages/pandas/core/generic.py?line=3562'>3563</a>\u001b[0m     quotechar\u001b[39m=\u001b[39;49mquotechar,\n\u001b[0;32m   <a href='file:///c%3A/Users/test/AppData/Local/Programs/Python/Python310/lib/site-packages/pandas/core/generic.py?line=3563'>3564</a>\u001b[0m     date_format\u001b[39m=\u001b[39;49mdate_format,\n\u001b[0;32m   <a href='file:///c%3A/Users/test/AppData/Local/Programs/Python/Python310/lib/site-packages/pandas/core/generic.py?line=3564'>3565</a>\u001b[0m     doublequote\u001b[39m=\u001b[39;49mdoublequote,\n\u001b[0;32m   <a href='file:///c%3A/Users/test/AppData/Local/Programs/Python/Python310/lib/site-packages/pandas/core/generic.py?line=3565'>3566</a>\u001b[0m     escapechar\u001b[39m=\u001b[39;49mescapechar,\n\u001b[0;32m   <a href='file:///c%3A/Users/test/AppData/Local/Programs/Python/Python310/lib/site-packages/pandas/core/generic.py?line=3566'>3567</a>\u001b[0m     storage_options\u001b[39m=\u001b[39;49mstorage_options,\n\u001b[0;32m   <a href='file:///c%3A/Users/test/AppData/Local/Programs/Python/Python310/lib/site-packages/pandas/core/generic.py?line=3567'>3568</a>\u001b[0m )\n",
            "File \u001b[1;32m~\\AppData\\Local\\Programs\\Python\\Python310\\lib\\site-packages\\pandas\\io\\formats\\format.py:1180\u001b[0m, in \u001b[0;36mDataFrameRenderer.to_csv\u001b[1;34m(self, path_or_buf, encoding, sep, columns, index_label, mode, compression, quoting, quotechar, line_terminator, chunksize, date_format, doublequote, escapechar, errors, storage_options)\u001b[0m\n\u001b[0;32m   <a href='file:///c%3A/Users/test/AppData/Local/Programs/Python/Python310/lib/site-packages/pandas/io/formats/format.py?line=1158'>1159</a>\u001b[0m     created_buffer \u001b[39m=\u001b[39m \u001b[39mFalse\u001b[39;00m\n\u001b[0;32m   <a href='file:///c%3A/Users/test/AppData/Local/Programs/Python/Python310/lib/site-packages/pandas/io/formats/format.py?line=1160'>1161</a>\u001b[0m csv_formatter \u001b[39m=\u001b[39m CSVFormatter(\n\u001b[0;32m   <a href='file:///c%3A/Users/test/AppData/Local/Programs/Python/Python310/lib/site-packages/pandas/io/formats/format.py?line=1161'>1162</a>\u001b[0m     path_or_buf\u001b[39m=\u001b[39mpath_or_buf,\n\u001b[0;32m   <a href='file:///c%3A/Users/test/AppData/Local/Programs/Python/Python310/lib/site-packages/pandas/io/formats/format.py?line=1162'>1163</a>\u001b[0m     line_terminator\u001b[39m=\u001b[39mline_terminator,\n\u001b[1;32m   (...)\u001b[0m\n\u001b[0;32m   <a href='file:///c%3A/Users/test/AppData/Local/Programs/Python/Python310/lib/site-packages/pandas/io/formats/format.py?line=1177'>1178</a>\u001b[0m     formatter\u001b[39m=\u001b[39m\u001b[39mself\u001b[39m\u001b[39m.\u001b[39mfmt,\n\u001b[0;32m   <a href='file:///c%3A/Users/test/AppData/Local/Programs/Python/Python310/lib/site-packages/pandas/io/formats/format.py?line=1178'>1179</a>\u001b[0m )\n\u001b[1;32m-> <a href='file:///c%3A/Users/test/AppData/Local/Programs/Python/Python310/lib/site-packages/pandas/io/formats/format.py?line=1179'>1180</a>\u001b[0m csv_formatter\u001b[39m.\u001b[39;49msave()\n\u001b[0;32m   <a href='file:///c%3A/Users/test/AppData/Local/Programs/Python/Python310/lib/site-packages/pandas/io/formats/format.py?line=1181'>1182</a>\u001b[0m \u001b[39mif\u001b[39;00m created_buffer:\n\u001b[0;32m   <a href='file:///c%3A/Users/test/AppData/Local/Programs/Python/Python310/lib/site-packages/pandas/io/formats/format.py?line=1182'>1183</a>\u001b[0m     \u001b[39massert\u001b[39;00m \u001b[39misinstance\u001b[39m(path_or_buf, StringIO)\n",
            "File \u001b[1;32m~\\AppData\\Local\\Programs\\Python\\Python310\\lib\\site-packages\\pandas\\io\\formats\\csvs.py:241\u001b[0m, in \u001b[0;36mCSVFormatter.save\u001b[1;34m(self)\u001b[0m\n\u001b[0;32m    <a href='file:///c%3A/Users/test/AppData/Local/Programs/Python/Python310/lib/site-packages/pandas/io/formats/csvs.py?line=236'>237</a>\u001b[0m \u001b[39m\"\"\"\u001b[39;00m\n\u001b[0;32m    <a href='file:///c%3A/Users/test/AppData/Local/Programs/Python/Python310/lib/site-packages/pandas/io/formats/csvs.py?line=237'>238</a>\u001b[0m \u001b[39mCreate the writer & save.\u001b[39;00m\n\u001b[0;32m    <a href='file:///c%3A/Users/test/AppData/Local/Programs/Python/Python310/lib/site-packages/pandas/io/formats/csvs.py?line=238'>239</a>\u001b[0m \u001b[39m\"\"\"\u001b[39;00m\n\u001b[0;32m    <a href='file:///c%3A/Users/test/AppData/Local/Programs/Python/Python310/lib/site-packages/pandas/io/formats/csvs.py?line=239'>240</a>\u001b[0m \u001b[39m# apply compression and byte/text conversion\u001b[39;00m\n\u001b[1;32m--> <a href='file:///c%3A/Users/test/AppData/Local/Programs/Python/Python310/lib/site-packages/pandas/io/formats/csvs.py?line=240'>241</a>\u001b[0m \u001b[39mwith\u001b[39;00m get_handle(\n\u001b[0;32m    <a href='file:///c%3A/Users/test/AppData/Local/Programs/Python/Python310/lib/site-packages/pandas/io/formats/csvs.py?line=241'>242</a>\u001b[0m     \u001b[39mself\u001b[39;49m\u001b[39m.\u001b[39;49mfilepath_or_buffer,\n\u001b[0;32m    <a href='file:///c%3A/Users/test/AppData/Local/Programs/Python/Python310/lib/site-packages/pandas/io/formats/csvs.py?line=242'>243</a>\u001b[0m     \u001b[39mself\u001b[39;49m\u001b[39m.\u001b[39;49mmode,\n\u001b[0;32m    <a href='file:///c%3A/Users/test/AppData/Local/Programs/Python/Python310/lib/site-packages/pandas/io/formats/csvs.py?line=243'>244</a>\u001b[0m     encoding\u001b[39m=\u001b[39;49m\u001b[39mself\u001b[39;49m\u001b[39m.\u001b[39;49mencoding,\n\u001b[0;32m    <a href='file:///c%3A/Users/test/AppData/Local/Programs/Python/Python310/lib/site-packages/pandas/io/formats/csvs.py?line=244'>245</a>\u001b[0m     errors\u001b[39m=\u001b[39;49m\u001b[39mself\u001b[39;49m\u001b[39m.\u001b[39;49merrors,\n\u001b[0;32m    <a href='file:///c%3A/Users/test/AppData/Local/Programs/Python/Python310/lib/site-packages/pandas/io/formats/csvs.py?line=245'>246</a>\u001b[0m     compression\u001b[39m=\u001b[39;49m\u001b[39mself\u001b[39;49m\u001b[39m.\u001b[39;49mcompression,\n\u001b[0;32m    <a href='file:///c%3A/Users/test/AppData/Local/Programs/Python/Python310/lib/site-packages/pandas/io/formats/csvs.py?line=246'>247</a>\u001b[0m     storage_options\u001b[39m=\u001b[39;49m\u001b[39mself\u001b[39;49m\u001b[39m.\u001b[39;49mstorage_options,\n\u001b[0;32m    <a href='file:///c%3A/Users/test/AppData/Local/Programs/Python/Python310/lib/site-packages/pandas/io/formats/csvs.py?line=247'>248</a>\u001b[0m ) \u001b[39mas\u001b[39;00m handles:\n\u001b[0;32m    <a href='file:///c%3A/Users/test/AppData/Local/Programs/Python/Python310/lib/site-packages/pandas/io/formats/csvs.py?line=248'>249</a>\u001b[0m \n\u001b[0;32m    <a href='file:///c%3A/Users/test/AppData/Local/Programs/Python/Python310/lib/site-packages/pandas/io/formats/csvs.py?line=249'>250</a>\u001b[0m     \u001b[39m# Note: self.encoding is irrelevant here\u001b[39;00m\n\u001b[0;32m    <a href='file:///c%3A/Users/test/AppData/Local/Programs/Python/Python310/lib/site-packages/pandas/io/formats/csvs.py?line=250'>251</a>\u001b[0m     \u001b[39mself\u001b[39m\u001b[39m.\u001b[39mwriter \u001b[39m=\u001b[39m csvlib\u001b[39m.\u001b[39mwriter(\n\u001b[0;32m    <a href='file:///c%3A/Users/test/AppData/Local/Programs/Python/Python310/lib/site-packages/pandas/io/formats/csvs.py?line=251'>252</a>\u001b[0m         handles\u001b[39m.\u001b[39mhandle,\n\u001b[0;32m    <a href='file:///c%3A/Users/test/AppData/Local/Programs/Python/Python310/lib/site-packages/pandas/io/formats/csvs.py?line=252'>253</a>\u001b[0m         lineterminator\u001b[39m=\u001b[39m\u001b[39mself\u001b[39m\u001b[39m.\u001b[39mline_terminator,\n\u001b[1;32m   (...)\u001b[0m\n\u001b[0;32m    <a href='file:///c%3A/Users/test/AppData/Local/Programs/Python/Python310/lib/site-packages/pandas/io/formats/csvs.py?line=257'>258</a>\u001b[0m         quotechar\u001b[39m=\u001b[39m\u001b[39mself\u001b[39m\u001b[39m.\u001b[39mquotechar,\n\u001b[0;32m    <a href='file:///c%3A/Users/test/AppData/Local/Programs/Python/Python310/lib/site-packages/pandas/io/formats/csvs.py?line=258'>259</a>\u001b[0m     )\n\u001b[0;32m    <a href='file:///c%3A/Users/test/AppData/Local/Programs/Python/Python310/lib/site-packages/pandas/io/formats/csvs.py?line=260'>261</a>\u001b[0m     \u001b[39mself\u001b[39m\u001b[39m.\u001b[39m_save()\n",
            "File \u001b[1;32m~\\AppData\\Local\\Programs\\Python\\Python310\\lib\\site-packages\\pandas\\io\\common.py:789\u001b[0m, in \u001b[0;36mget_handle\u001b[1;34m(path_or_buf, mode, encoding, compression, memory_map, is_text, errors, storage_options)\u001b[0m\n\u001b[0;32m    <a href='file:///c%3A/Users/test/AppData/Local/Programs/Python/Python310/lib/site-packages/pandas/io/common.py?line=783'>784</a>\u001b[0m \u001b[39melif\u001b[39;00m \u001b[39misinstance\u001b[39m(handle, \u001b[39mstr\u001b[39m):\n\u001b[0;32m    <a href='file:///c%3A/Users/test/AppData/Local/Programs/Python/Python310/lib/site-packages/pandas/io/common.py?line=784'>785</a>\u001b[0m     \u001b[39m# Check whether the filename is to be opened in binary mode.\u001b[39;00m\n\u001b[0;32m    <a href='file:///c%3A/Users/test/AppData/Local/Programs/Python/Python310/lib/site-packages/pandas/io/common.py?line=785'>786</a>\u001b[0m     \u001b[39m# Binary mode does not support 'encoding' and 'newline'.\u001b[39;00m\n\u001b[0;32m    <a href='file:///c%3A/Users/test/AppData/Local/Programs/Python/Python310/lib/site-packages/pandas/io/common.py?line=786'>787</a>\u001b[0m     \u001b[39mif\u001b[39;00m ioargs\u001b[39m.\u001b[39mencoding \u001b[39mand\u001b[39;00m \u001b[39m\"\u001b[39m\u001b[39mb\u001b[39m\u001b[39m\"\u001b[39m \u001b[39mnot\u001b[39;00m \u001b[39min\u001b[39;00m ioargs\u001b[39m.\u001b[39mmode:\n\u001b[0;32m    <a href='file:///c%3A/Users/test/AppData/Local/Programs/Python/Python310/lib/site-packages/pandas/io/common.py?line=787'>788</a>\u001b[0m         \u001b[39m# Encoding\u001b[39;00m\n\u001b[1;32m--> <a href='file:///c%3A/Users/test/AppData/Local/Programs/Python/Python310/lib/site-packages/pandas/io/common.py?line=788'>789</a>\u001b[0m         handle \u001b[39m=\u001b[39m \u001b[39mopen\u001b[39;49m(\n\u001b[0;32m    <a href='file:///c%3A/Users/test/AppData/Local/Programs/Python/Python310/lib/site-packages/pandas/io/common.py?line=789'>790</a>\u001b[0m             handle,\n\u001b[0;32m    <a href='file:///c%3A/Users/test/AppData/Local/Programs/Python/Python310/lib/site-packages/pandas/io/common.py?line=790'>791</a>\u001b[0m             ioargs\u001b[39m.\u001b[39;49mmode,\n\u001b[0;32m    <a href='file:///c%3A/Users/test/AppData/Local/Programs/Python/Python310/lib/site-packages/pandas/io/common.py?line=791'>792</a>\u001b[0m             encoding\u001b[39m=\u001b[39;49mioargs\u001b[39m.\u001b[39;49mencoding,\n\u001b[0;32m    <a href='file:///c%3A/Users/test/AppData/Local/Programs/Python/Python310/lib/site-packages/pandas/io/common.py?line=792'>793</a>\u001b[0m             errors\u001b[39m=\u001b[39;49merrors,\n\u001b[0;32m    <a href='file:///c%3A/Users/test/AppData/Local/Programs/Python/Python310/lib/site-packages/pandas/io/common.py?line=793'>794</a>\u001b[0m             newline\u001b[39m=\u001b[39;49m\u001b[39m\"\u001b[39;49m\u001b[39m\"\u001b[39;49m,\n\u001b[0;32m    <a href='file:///c%3A/Users/test/AppData/Local/Programs/Python/Python310/lib/site-packages/pandas/io/common.py?line=794'>795</a>\u001b[0m         )\n\u001b[0;32m    <a href='file:///c%3A/Users/test/AppData/Local/Programs/Python/Python310/lib/site-packages/pandas/io/common.py?line=795'>796</a>\u001b[0m     \u001b[39melse\u001b[39;00m:\n\u001b[0;32m    <a href='file:///c%3A/Users/test/AppData/Local/Programs/Python/Python310/lib/site-packages/pandas/io/common.py?line=796'>797</a>\u001b[0m         \u001b[39m# Binary mode\u001b[39;00m\n\u001b[0;32m    <a href='file:///c%3A/Users/test/AppData/Local/Programs/Python/Python310/lib/site-packages/pandas/io/common.py?line=797'>798</a>\u001b[0m         handle \u001b[39m=\u001b[39m \u001b[39mopen\u001b[39m(handle, ioargs\u001b[39m.\u001b[39mmode)\n",
            "\u001b[1;31mPermissionError\u001b[0m: [Errno 13] Permission denied: 'calendar.csv'"
          ]
        }
      ],
      "source": [
        "import requests\n",
        "import pandas as pd\n",
        "from bs4 import BeautifulSoup\n",
        "\n",
        "url = 'https://scheduling.rutgers.edu/scheduling/academic-calendar'\n",
        "requests.get(url)\n",
        "\n",
        "pages = requests.get(url)\n",
        "pages.text\n",
        "\n",
        "soup = BeautifulSoup(pages.text, 'lxml')\n",
        "\n",
        "table1 = soup.find('table')\n",
        "\n",
        "headers=[]\n",
        "for i in table1.find_all('th'):\n",
        "  title = i.text\n",
        "  headers.append(title)\n",
        "\n",
        "mydata = pd.DataFrame(columns = headers)\n",
        "prevFirst = \"\"\n",
        "firstMonths = ['september','october','november','december']\n",
        "hold = []\n",
        "for j in table1.find_all('tr')[1:]:\n",
        "  row_data = j.find_all('td')\n",
        "  row = [i.text for i in row_data]\n",
        "  if len(row) == 3:\n",
        "    row.insert(0,prevFirst)\n",
        "  counter = 0\n",
        "  for data in row:\n",
        "    data = data.lower()\n",
        "    data = data.strip()\n",
        "    if '-' in data:\n",
        "      data = data[0:data.index('-')]\n",
        "    if '–' in data:\n",
        "      data = data[0:data.index('–')]\n",
        "    if '(' in data:\n",
        "      data = data[0:data.index('(')]\n",
        "    data = repr(data).replace(r'\\n',' ')\n",
        "    data = data.replace(r'\\t\\t\\t','')\n",
        "    if counter != 0 :\n",
        "      check = True\n",
        "      yearOne = headers[counter][0:4]\n",
        "      yearTwo = headers[counter][5:9]\n",
        "      for m in firstMonths:\n",
        "        if m in data:\n",
        "          check = False\n",
        "          data = data+yearOne\n",
        "      if check:\n",
        "        data = data + yearTwo\n",
        "    row[counter] = data\n",
        "    counter += 1\n",
        "  length = len(mydata)\n",
        "  mydata.loc[length] = row\n",
        "  prevFirst = row[0]\n",
        "\n",
        "mydata = mydata.drop(3)\n",
        "mydata = mydata.drop(2)\n",
        "mydata = mydata.drop(6)\n",
        "mydata = mydata.drop(15)\n",
        "\n",
        "end = ['\\'thanksgiving recess end\\'','\\'sunday, november 28\\'2021','\\'sunday, november 27\\'2022','\\'sunday, november 26\\'2023']\n",
        "mydata.loc[length]=end\n",
        "\n",
        "mydata.to_csv('calendar.csv', index=False)\n",
        "mydata2 = pd.read_csv('calendar.csv')\n",
        "print (mydata2)"
      ]
    },
    {
      "cell_type": "code",
      "execution_count": null,
      "metadata": {
        "id": "FcaErmpS5DUC"
      },
      "outputs": [],
      "source": []
    }
  ],
  "metadata": {
=======
=======
>>>>>>> 077319c6c539fc33290165621738a0cbcbcc4657
 "cells": [
  {
   "cell_type": "code",
   "execution_count": 3,
   "metadata": {
<<<<<<< HEAD
>>>>>>> 077319c6c539fc33290165621738a0cbcbcc4657
=======
>>>>>>> 077319c6c539fc33290165621738a0cbcbcc4657
    "colab": {
     "base_uri": "https://localhost:8080/"
    },
    "id": "J0wwqrhGxK5A",
    "outputId": "3e79166a-952b-4594-b22a-0eeccdc63798"
   },
   "outputs": [
    {
     "name": "stdout",
     "output_type": "stream",
     "text": [
      "                               Event                     2021–2022  \\\n",
      "0             'fall semester begins'  'wednesday, september 1'2021   \n",
      "1   'regular saturday classes start'   'saturday, september 4'2021   \n",
      "2              'thanksgiving recess'  'wednesday, november 24'2021   \n",
      "3              'regular classes end'     'monday, december 13'2021   \n",
      "4                 'fall exams begin'   'thursday, december 16'2021   \n",
      "5                   'fall exams end'   'thursday, december 23'2021   \n",
      "6            'winter session begins'   'thursday, december 23'2021   \n",
      "7              'winter session ends'      'friday, january 14'2022   \n",
      "8           'spring semester begins'     'tuesday, january 18'2022   \n",
      "9             'spring recess begins'      'saturday, march 12'2022   \n",
      "10              'spring recess ends'        'sunday, march 20'2022   \n",
      "11             'regular classes end'           'monday, may 2'2022   \n",
      "12              'spring exams begin'         'thursday, may 5'2022   \n",
      "13                'spring exams end'       'wednesday, may 11'2022   \n",
      "14                          'rutger'          'sunday, may 15'2022   \n",
      "15           'summer session begins'         'tuesday, may 31'2022   \n",
      "16         'thanksgiving recess end'     'sunday, november 28'2021   \n",
      "\n",
      "                       2022–2023                     2023-2024  \n",
      "0     'tuesday, september 6'2022    'tuesday, september 5'2023  \n",
      "1   'saturday, september 10'2022   'saturday, september 9'2023  \n",
      "2    'thursday, november 24'2022   'thursday, november 23'2023  \n",
      "3   'wednesday, december 14'2022  'wednesday, december 13'2023  \n",
      "4      'friday, december 16'2022     'friday, december 15'2023  \n",
      "5      'friday, december 23'2022     'friday, december 22'2023  \n",
      "6      'friday, december 23'2022     'friday, december 22'2023  \n",
      "7       'friday, january 13'2023      'friday, january 12'2024  \n",
      "8      'tuesday, january 17'2023     'tuesday, january 16'2024  \n",
      "9       'saturday, march 11'2023       'saturday, march 9'2024  \n",
      "10        'sunday, march 19'2023        'sunday, march 17'2024  \n",
      "11           'monday, may 1'2023        'monday, april 29'2024  \n",
      "12         'thursday, may 4'2023         'thursday, may 2'2024  \n",
      "13       'wednesday, may 10'2023        'wednesday, may 8'2024  \n",
      "14          'sunday, may 14'2023          'sunday, may 12'2024  \n",
      "15         'tuesday, may 30'2023         'tuesday, may 28'2024  \n",
      "16     'sunday, november 27'2022     'sunday, november 26'2023  \n"
     ]
    }
   ],
   "source": [
    "import requests\n",
    "import pandas as pd\n",
    "from bs4 import BeautifulSoup\n",
    "\n",
    "url = 'https://scheduling.rutgers.edu/scheduling/academic-calendar'\n",
    "requests.get(url)\n",
    "\n",
    "pages = requests.get(url)\n",
    "pages.text\n",
    "\n",
    "soup = BeautifulSoup(pages.text, 'lxml')\n",
    "\n",
    "table1 = soup.find('table')\n",
    "\n",
    "headers=[]\n",
    "for i in table1.find_all('th'):\n",
    "  title = i.text\n",
    "  headers.append(title)\n",
    "\n",
    "mydata = pd.DataFrame(columns = headers)\n",
    "prevFirst = \"\"\n",
    "firstMonths = ['september','october','november','december']\n",
    "hold = []\n",
    "for j in table1.find_all('tr')[1:]:\n",
    "  row_data = j.find_all('td')\n",
    "  row = [i.text for i in row_data]\n",
    "  if len(row) == 3:\n",
    "    row.insert(0,prevFirst)\n",
    "  counter = 0\n",
    "  for data in row:\n",
    "    data = data.lower()\n",
    "    data = data.strip()\n",
    "    if '-' in data:\n",
    "      data = data[0:data.index('-')-1]\n",
    "    if '–' in data:\n",
    "      data = data[0:data.index('–')-1]\n",
    "    if '(' in data:\n",
    "      data = data[0:data.index('(')]\n",
    "    data = repr(data).replace(r'\\n','')\n",
    "    data = data.replace(r'\\t\\t\\t','')\n",
    "    if counter != 0 :\n",
    "      check = True\n",
    "      yearOne = headers[counter][0:4]\n",
    "      yearTwo = headers[counter][5:9]\n",
    "      for m in firstMonths:\n",
    "        if m in data:\n",
    "          check = False\n",
    "          data = data+yearOne\n",
    "      if check:\n",
    "        data = data + yearTwo\n",
    "    row[counter] = data\n",
    "    counter += 1\n",
    "  length = len(mydata)\n",
    "  mydata.loc[length] = row\n",
    "  prevFirst = row[0]\n",
    "\n",
    "mydata = mydata.drop(3)\n",
    "mydata = mydata.drop(2)\n",
    "mydata = mydata.drop(6)\n",
    "mydata = mydata.drop(15)\n",
    "\n",
    "end = ['\\'thanksgiving recess end\\'','\\'sunday, november 28\\'2021','\\'sunday, november 27\\'2022','\\'sunday, november 26\\'2023']\n",
    "mydata.loc[length]=end\n",
    "\n",
    "mydata.to_csv('calendar.csv', index=False)\n",
    "mydata2 = pd.read_csv('calendar.csv')\n",
    "print (mydata2)"
   ]
  },
  {
   "cell_type": "code",
   "execution_count": null,
   "metadata": {
    "id": "FcaErmpS5DUC"
   },
   "outputs": [],
   "source": []
  }
 ],
 "metadata": {
  "colab": {
   "collapsed_sections": [],
   "name": "MakeCsv.ipynb",
   "provenance": []
  },
  "kernelspec": {
   "display_name": "Python 3 (ipykernel)",
   "language": "python",
   "name": "python3"
  },
  "language_info": {
   "codemirror_mode": {
    "name": "ipython",
    "version": 3
   },
   "file_extension": ".py",
   "mimetype": "text/x-python",
   "name": "python",
   "nbconvert_exporter": "python",
   "pygments_lexer": "ipython3",
   "version": "3.9.7"
  }
 },
 "nbformat": 4,
 "nbformat_minor": 4
}
